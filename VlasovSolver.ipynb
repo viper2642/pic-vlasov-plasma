{
 "cells": [
  {
   "cell_type": "code",
   "execution_count": 1,
   "metadata": {},
   "outputs": [],
   "source": [
    "%matplotlib inline\n",
    "import numpy as np\n",
    "\n",
    "import matplotlib.animation as anim\n",
    "import matplotlib.pyplot as plt\n",
    "from vlasov import Efield,Species,Plasma"
   ]
  },
  {
   "cell_type": "code",
   "execution_count": null,
   "metadata": {},
   "outputs": [],
   "source": [
    "# simulation parameters\n",
    "dt=4.e-4\n",
    "tfin=1.e-1\n",
    "waittime=20 # ms\n",
    "substepping=5\n",
    "\n",
    "e=Efield(nintervals=50,voltage=1.,frequency=50.,bcs=\"Neumann\")\n",
    "ion=Species(nparticles=1000,mass=1.,charge=1.,temperature=1.)\n",
    "ele=Species(nparticles=1000,mass=1./5.,charge=-1.,temperature=1.,wave_amplitude=1.e-2,mode_number=2)\n",
    "plas=Plasma(ions=ion,electrons=ele,electric_field=e)\n",
    "\n",
    "# cosmetics\n",
    "plt.rcParams.update({'font.size': 16})\n",
    "fig,alist = plt.subplots(1,4,figsize=(12,5))\n",
    "fig.subplots_adjust(left=0.05, bottom=0.08, right=0.99, top=0.99, wspace=None, hspace=None)\n",
    "\n",
    "# plasma box\n",
    "alist[0].set_xlim(0., 1.)\n",
    "alist[0].set_ylim(-10.,10.)\n",
    "alist[0].set_xlabel('x')\n",
    "\n",
    "#particle phase-space\n",
    "alist[1].set_xlim(0.,1.)\n",
    "alist[1].set_xlabel('x')\n",
    "alist[1].set_ylabel('v')\n",
    "\n",
    "# time recording\n",
    "#alist[2].set_xlim(0,tfin)\n",
    "alist[2].set_xlabel('t')\n",
    "\n",
    "# histograms\n",
    "alist[3].set_xlabel('v')\n",
    "alist[3].set_ylim(-1.,1.)\n",
    "\n",
    "# definition of plots\n",
    "pot, = alist[0].plot([],[],'-k',label='potential')\n",
    "efi, = alist[0].plot([],[],'-r',label='E field')\n",
    "cha, = alist[0].plot([],[],'-b',label='charge density')\n",
    "pe,  = alist[1].plot([],[],'.b',markersize=10,label='electrons')\n",
    "pi,  = alist[1].plot([],[],'.r',markersize=20,label='ions')\n",
    "npa, = alist[2].plot([],[],'-k',label='total particles')\n",
    "cur, = alist[2].plot([],[],'-r',label='current')\n",
    "qto, = alist[2].plot([],[],'-b',label='total charge')\n",
    "hii, = alist[3].plot([],[],'-r',label='ions')\n",
    "hie, = alist[3].plot([],[],'-b',label='electrons')\n",
    "\n",
    "plist=(pe,pi,pot,efi,cha,npa,cur,qto,hii,hie)  # for convenience\n",
    "\n",
    "# default settings\n",
    "for a in alist:\n",
    "    a.grid()\n",
    "    a.set_autoscale_on\n",
    "    a.legend(loc='upper right')\n",
    "\n",
    "def init():\n",
    "    for e in plist:\n",
    "        e.set_data([],[])\n",
    "        \n",
    "    return plist\n",
    "\n",
    "def animate(i):\n",
    "    global dt, fig, alist, plas\n",
    "\n",
    "    # subsampling\n",
    "    for i in range(0,substepping):\n",
    "        plas.evolve(dt)\n",
    "    \n",
    "    # electric field plotting\n",
    "    x=np.linspace(0.,1.,150)\n",
    "    pot.set_data(x,e.eval_potential(x))\n",
    "    cha.set_data(x,e.eval_charge_density(x))\n",
    "    efi.set_data(x,e.eval_field(x))\n",
    "    \n",
    "    # particle phase-space plotting\n",
    "    pi.set_data(ion.pos(),ion.vel())\n",
    "    pe.set_data(ele.pos(),ele.vel())\n",
    "    \n",
    "    # time traces plotting\n",
    "    npa.set_xdata(np.append(npa.get_xdata(),e.t))\n",
    "    npa.set_ydata(np.append(npa.get_ydata(),plas.particle_number()))\n",
    "                  \n",
    "    cur.set_xdata(np.append(cur.get_xdata(),e.t))\n",
    "    cur.set_ydata(np.append(cur.get_ydata(),plas.current()))\n",
    "    \n",
    "    qto.set_xdata(np.append(qto.get_xdata(),e.t))\n",
    "    qto.set_ydata(np.append(qto.get_ydata(),plas.global_charge()))\n",
    "    \n",
    "    # histograms in velocity space\n",
    "    [n,b]=np.histogram(ion.vel(),bins=30,weights=ion.w)\n",
    "    bc=b[:-1]+0.5*np.diff(b)\n",
    "    hii.set_data(bc,n)\n",
    "    \n",
    "    [n,b]=np.histogram(ele.vel(),bins=30,weights=ele.w)\n",
    "    bc=b[:-1]+0.5*np.diff(b)\n",
    "    hie.set_data(bc,n)\n",
    "    \n",
    "    # axis cosmetics\n",
    "    for a in alist:\n",
    "        a.relim()\n",
    "        a.autoscale_view()\n",
    "        \n",
    "    return plist\n",
    "\n",
    "ani = anim.FuncAnimation(fig,animate,frames=int(tfin/dt),interval=10,blit=True,init_func=init)\n",
    "\n",
    "ani.save('vlasov_solver.mp4',fps=24,extra_args=['-vcodec','libx264'])\n",
    "    \n",
    "plt.show()"
   ]
  },
  {
   "cell_type": "code",
   "execution_count": 6,
   "metadata": {},
   "outputs": [
    {
     "data": {
      "text/plain": [
       "[<matplotlib.lines.Line2D at 0x7f174c1d5dd8>]"
      ]
     },
     "execution_count": 6,
     "metadata": {},
     "output_type": "execute_result"
    },
    {
     "data": {
      "image/png": "[encoded data removed]",
      "text/plain": [
       "<Figure size 432x288 with 1 Axes>"
      ]
     },
     "metadata": {
      "needs_background": "light"
     },
     "output_type": "display_data"
    }
   ],
   "source": [
    "e=Efield(nintervals=20,voltage=0.,bcs=\"Dirichlet\")\n",
    "e.charge_density.fill(1.)\n",
    "e.solve()\n",
    "plt.plot(e.grid,e.potential,'.-k')\n",
    "plt.plot(e.half_grid,e.efield,'.-r')\n",
    "plt.plot(e.grid,e.charge_density,'.-b')\n",
    "plt.plot(e.grid,4*np.pi*1./2.*e.grid*(e.grid-1.))\n",
    "plt.plot(e.grid,4*np.pi*(e.grid-0.5))\n"
   ]
  },
  {
   "cell_type": "code",
   "execution_count": null,
   "metadata": {},
   "outputs": [],
   "source": []
  }
 ],
 "metadata": {
  "kernelspec": {
   "display_name": "Python 3",
   "language": "python",
   "name": "python3"
  },
  "language_info": {
   "codemirror_mode": {
    "name": "ipython",
    "version": 3
   },
   "file_extension": ".py",
   "mimetype": "text/x-python",
   "name": "python",
   "nbconvert_exporter": "python",
   "pygments_lexer": "ipython3",
   "version": "3.7.3"
  }
 },
 "nbformat": 4,
 "nbformat_minor": 2
}
